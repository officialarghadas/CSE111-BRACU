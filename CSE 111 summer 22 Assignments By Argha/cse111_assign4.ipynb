{
  "cells": [
    {
      "cell_type": "code",
      "execution_count": null,
      "id": "5f4d9304",
      "metadata": {
        "colab": {
          "base_uri": "https://localhost:8080/"
        },
        "id": "5f4d9304",
        "outputId": "981cd296-6ea3-4dde-d2c9-76e66d526769"
      },
      "outputs": [
        {
          "output_type": "stream",
          "name": "stdout",
          "text": [
            "Hello!\n",
            "Sam, you purchased 3 item(s): \n",
            "chips\n",
            "chocolate\n",
            "orange juice\n",
            "-----------------------------\n",
            "Hello! David\n",
            "David, you purchased 1 item(s): \n",
            "orange juice\n"
          ]
        }
      ],
      "source": [
        "# task 1\n",
        "class Customer():\n",
        "  def __init__(self,name):\n",
        "    self.name=name\n",
        "  def greet(self,name=None):\n",
        "    if name==None :\n",
        "      print('Hello!')\n",
        "    else:\n",
        "      print('Hello!',name)\n",
        "  def purchase(self,*prod):\n",
        "    print(f'''{self.name}, you purchased {len(prod)} item(s): ''')\n",
        "    for i in prod :\n",
        "      print(i)\n",
        "\n",
        "customer_1 = Customer(\"Sam\")\n",
        "customer_1.greet()\n",
        "customer_1.purchase(\"chips\", \"chocolate\", \"orange juice\")\n",
        "print(\"-----------------------------\")\n",
        "customer_2 = Customer(\"David\")\n",
        "customer_2.greet(\"David\")\n",
        "customer_2.purchase(\"orange juice\")"
      ]
    },
    {
      "cell_type": "code",
      "execution_count": null,
      "id": "e4059511",
      "metadata": {
        "id": "e4059511",
        "outputId": "f4ee5109-7d49-458a-934b-ff37497072ff",
        "colab": {
          "base_uri": "https://localhost:8080/"
        }
      },
      "outputs": [
        {
          "output_type": "stream",
          "name": "stdout",
          "text": [
            "Kunfu is a Male Panda Bear who is 5 years old\n",
            "Pan Pan is a Female Panda Bear who is 3 yearsold\n",
            "Ming Ming is a Female Panda Bear who is 8 yearsold\n",
            "===========================\n",
            "Pan Pan sleeps 10 hours daily and should have Broccoli Chicken\n",
            "Kunfu sleeps 4 hours daily and should have Mixed Veggies\n",
            "Ming Ming's duration is unknown thus should have only bamboo leaves\n"
          ]
        }
      ],
      "source": [
        "# task 2\n",
        "class Panda():\n",
        "  def __init__(self,name,gender,year):\n",
        "    self.name=name\n",
        "    self.gender=gender\n",
        "    self.age=year\n",
        "  def sleep(self,time=0):\n",
        "    ans=f'{self.name} sleeps {time} hours daily and should have'\n",
        "    if time>=3 and time <=5:\n",
        "      return ans+' Mixed Veggies'\n",
        "    elif time>=6 and time <=8:\n",
        "      return ans+' Eggplant & Tofu'\n",
        "    elif time>=9 and time <=11:\n",
        "      return ans+' Broccoli Chicken'\n",
        "    else:\n",
        "      return f\"{self.name}'s duration is unknown thus should have only bamboo leaves\"\n",
        "\n",
        "\n",
        "\n",
        "\n",
        "panda1 = Panda(\"Kunfu\",\"Male\", 5)\n",
        "panda2=Panda(\"Pan Pan\",\"Female\",3)\n",
        "panda3=Panda(\"Ming Ming\",\"Female\",8)\n",
        "print(\"{} is a {} Panda Bear who is {} years old\".format(panda1.name,panda1.gender,panda1.age))\n",
        "print(\"{} is a {} Panda Bear who is {} yearsold\".format(panda2.name,panda2.gender,panda2.age))\n",
        "print(\"{} is a {} Panda Bear who is {} yearsold\".format(panda3.name,panda3.gender,panda3.age))\n",
        "print(\"===========================\")\n",
        "print(panda2.sleep(10))\n",
        "print(panda1.sleep(4))\n",
        "print(panda3.sleep())"
      ]
    },
    {
      "cell_type": "code",
      "execution_count": null,
      "id": "274cfd06",
      "metadata": {
        "id": "274cfd06",
        "outputId": "bb4ae8b5-b6ea-4440-cf2b-eb667f5c0453",
        "colab": {
          "base_uri": "https://localhost:8080/"
        }
      },
      "outputs": [
        {
          "output_type": "stream",
          "name": "stdout",
          "text": [
            "White cat is sitting\n",
            "Black cat is sitting\n",
            "Brown cat is jumping\n",
            "Red cat is purring\n",
            "Blue cat is sitting\n",
            "Purple cat is jumping\n"
          ]
        }
      ],
      "source": [
        "# task 3\n",
        "class Cat():\n",
        "  def __init__(self,color='White',act='sitting'):\n",
        "    self.color=color\n",
        "    self.act=act\n",
        "  def changeColor(self,color):\n",
        "    self.color=color\n",
        "  def printCat(self):\n",
        "    print(f'{self.color} cat is {self.act}')\n",
        "c1 = Cat()\n",
        "c2 = Cat(\"Black\")\n",
        "c3 = Cat(\"Brown\", \"jumping\")\n",
        "c4 = Cat(\"Red\", \"purring\")\n",
        "c1.printCat()\n",
        "c2.printCat()\n",
        "c3.printCat()\n",
        "c4.printCat()\n",
        "c1.changeColor(\"Blue\")\n",
        "c3.changeColor(\"Purple\")\n",
        "c1.printCat()\n",
        "c3.printCat()"
      ]
    },
    {
      "cell_type": "code",
      "execution_count": null,
      "id": "c55529ed",
      "metadata": {
        "id": "c55529ed",
        "outputId": "b632d7cb-748e-4abe-c736-a85f3522c73d",
        "colab": {
          "base_uri": "https://localhost:8080/"
        }
      },
      "outputs": [
        {
          "output_type": "stream",
          "name": "stdout",
          "text": [
            "--------------------------------\n",
            "Hello default student\n",
            "Your average quiz score is 3.3333333333333335\n",
            "--------------------------------\n",
            "Hello Harry\n",
            "Your average quiz score is 6.0\n",
            "--------------------------------\n",
            "Hello Hermione\n",
            "Your average quiz score is 9.666666666666666\n"
          ]
        }
      ],
      "source": [
        "# task 4\n",
        "class Student:\n",
        "    def __init__(self,name='default student'):\n",
        "        self.name=name\n",
        "    def quizcalc(self,*mark):\n",
        "        self.total=0\n",
        "        for i in mark:\n",
        "            self.total+=i\n",
        "        self.avarage=self.total/3\n",
        "    def printdetail(self):\n",
        "        if self.name !=None:\n",
        "            print('Hello',self.name)\n",
        "        else:\n",
        "            print('Hello default student')\n",
        "        print('Your average quiz score is',self.avarage)\n",
        "        \n",
        "        \n",
        "\n",
        "s1 = Student()\n",
        "s1.quizcalc(10)\n",
        "print('--------------------------------')\n",
        "s1.printdetail()\n",
        "s2 = Student('Harry')\n",
        "s2.quizcalc(10,8)\n",
        "print('--------------------------------')\n",
        "s2.printdetail()\n",
        "s3 = Student('Hermione')\n",
        "s3.quizcalc(10,9,10)\n",
        "print('--------------------------------')\n",
        "s3.printdetail()"
      ]
    },
    {
      "cell_type": "code",
      "source": [
        "#task 5\n",
        "class Student():\n",
        "  def __init__(self,name,id,dep='CSE'):\n",
        "    self.name=name\n",
        "    self.id =id \n",
        "    self.dep=dep\n",
        "  def dailyEffort(self,time):\n",
        "    self.time=time\n",
        "  def printDetails(self):\n",
        "    ans=f'''Name: {self.name}\n",
        "ID: {self.id}\n",
        "Department: {self.dep}\n",
        "Daily Effort: {self.time} hour(s)\n",
        "Suggestion:'''\n",
        "    if self.time<= 2:\n",
        "      print(ans,'Should give more effort!')\n",
        "    elif self.time<= 4:\n",
        "      print(ans,'Keep up the good work!')\n",
        "    else:\n",
        "      print(ans,'Excellent! Now motivate others.')\n",
        "harry = Student('Harry Potter', 123)\n",
        "harry.dailyEffort(3)\n",
        "harry.printDetails()\n",
        "print('========================')\n",
        "john = Student(\"John Wick\", 456, \"BBA\")\n",
        "john.dailyEffort(2)\n",
        "john.printDetails()\n",
        "print('========================')\n",
        "naruto = Student(\"Naruto Uzumaki\", 777, \"Ninja\")\n",
        "naruto.dailyEffort(6)\n",
        "naruto.printDetails()"
      ],
      "metadata": {
        "colab": {
          "base_uri": "https://localhost:8080/"
        },
        "id": "tY6LzEwdi2yx",
        "outputId": "8f3fb8e0-01ad-449e-c0f7-587f47bb36e3"
      },
      "id": "tY6LzEwdi2yx",
      "execution_count": null,
      "outputs": [
        {
          "output_type": "stream",
          "name": "stdout",
          "text": [
            "Name: Harry Potter\n",
            "ID: 123\n",
            "Department: CSE\n",
            "Daily Effort: 3 hour(s)\n",
            "Suggestion: Keep up the good work!\n",
            "========================\n",
            "Name: John Wick\n",
            "ID: 456\n",
            "Department: BBA\n",
            "Daily Effort: 2 hour(s)\n",
            "Suggestion: Should give more effort!\n",
            "========================\n",
            "Name: Naruto Uzumaki\n",
            "ID: 777\n",
            "Department: Ninja\n",
            "Daily Effort: 6 hour(s)\n",
            "Suggestion: Excellent! Now motivate others.\n"
          ]
        }
      ]
    },
    {
      "cell_type": "code",
      "source": [
        "#task 6\n",
        "class Patient():\n",
        "  def __init__(self,name,age):\n",
        "    self.name=name\n",
        "    self.age=age\n",
        "  def add_Symptom(self,*syn):\n",
        "    self.syn=syn\n",
        "    \n",
        "  def printPatientDetail(self):\n",
        "    print(f'''Name: {self.name}\n",
        "Age: {self.age}\n",
        "Symptoms:{str(self.syn)[1:-1]}''')\n",
        "\n",
        "\n",
        "p1 = Patient('Thomas', 23)\n",
        "p1.add_Symptom('Headache')\n",
        "p2 = Patient('Carol', 20)\n",
        "p2.add_Symptom('Vomiting', 'Coughing')\n",
        "p3 = Patient('Mike', 25)\n",
        "p3.add_Symptom('Fever', 'Headache', 'Coughing')\n",
        "print(\"=========================\")\n",
        "p1.printPatientDetail()\n",
        "print(\"=========================\")\n",
        "p2.printPatientDetail()\n",
        "print(\"=========================\")\n",
        "p3.printPatientDetail()"
      ],
      "metadata": {
        "colab": {
          "base_uri": "https://localhost:8080/"
        },
        "id": "iOQfFvTbi2nX",
        "outputId": "f5c04fc7-a315-4e74-ea64-b782a2ccb05d"
      },
      "id": "iOQfFvTbi2nX",
      "execution_count": null,
      "outputs": [
        {
          "output_type": "stream",
          "name": "stdout",
          "text": [
            "=========================\n",
            "Name: Thomas\n",
            "Age: 23\n",
            "Symptoms:'Headache',\n",
            "=========================\n",
            "Name: Carol\n",
            "Age: 20\n",
            "Symptoms:'Vomiting', 'Coughing'\n",
            "=========================\n",
            "Name: Mike\n",
            "Age: 25\n",
            "Symptoms:'Fever', 'Headache', 'Coughing'\n"
          ]
        }
      ]
    },
    {
      "cell_type": "code",
      "execution_count": null,
      "id": "d82914e8",
      "metadata": {
        "id": "d82914e8",
        "outputId": "81d9278d-645c-4110-b634-b82ecbf35e66",
        "colab": {
          "base_uri": "https://localhost:8080/"
        }
      },
      "outputs": [
        {
          "output_type": "stream",
          "name": "stdout",
          "text": [
            "5..4..3..2..1.. Play !!!\n",
            "=========================\n",
            "Batting Team: Rangpur Riders\n",
            "Bowling Team: Cumilla Victorians\n",
            "Total Runs: 10 Wickets: 0 Overs: 1\n",
            "=========================\n",
            "Warning! Cannot add 5 over/s (5 over match)\n",
            "=========================\n",
            "Batting Team: Rangpur Riders\n",
            "Bowling Team: Cumilla Victorians\n",
            "Total Runs: 10 Wickets: 1 Overs: 1\n"
          ]
        }
      ],
      "source": [
        "# task 7\n",
        "class Match():\n",
        "  def __init__(self,match):\n",
        "    self.name=match\n",
        "    self.over=0\n",
        "    self.run=0\n",
        "    self.wicket=0\n",
        "    print('5..4..3..2..1.. Play !!!')\n",
        "  def add_run(self,run):\n",
        "    self.run+=run\n",
        "  def add_over(self,over):\n",
        "    temp=self.over+over\n",
        "    if temp<=5:\n",
        "      self.over+=over\n",
        "    else :\n",
        "      print('Warning! Cannot add 5 over/s (5 over match)')\n",
        "\n",
        "  def add_wicket(self,wicket):\n",
        "    self.wicket+=wicket\n",
        "  def print_scoreboard(self):\n",
        "    self.team=self.name.split('-')\n",
        "    return f'''Batting Team: {self.team[0]}\n",
        "Bowling Team: {self.team[1]}\n",
        "Total Runs: {self.run} Wickets: {self.wicket} Overs: {self.over}'''\n",
        "\n",
        "match1 = Match(\"Rangpur Riders-Cumilla Victorians\")\n",
        "print(\"=========================\")\n",
        "match1.add_run(4)\n",
        "match1.add_run(6)\n",
        "match1.add_over(1)\n",
        "print(match1.print_scoreboard())\n",
        "print(\"=========================\")\n",
        "match1.add_over(5)\n",
        "print(\"=========================\")\n",
        "match1.add_wicket(1)\n",
        "print(match1.print_scoreboard())\n"
      ]
    },
    {
      "cell_type": "code",
      "source": [
        "#task 8\n",
        "class ParcelKoro():\n",
        "  def __init__(self,name='No name set',Weight=0):\n",
        "    self.name=name\n",
        "    self.product_weight=Weight\n",
        "  def calculateFee(self,loc=None):\n",
        "    if self.product_weight==0:\n",
        "      self.total_fee = 0\n",
        "    elif loc==None:\n",
        "      self.total_fee = (self.product_weight * 20) + 50\n",
        "    else:\n",
        "      self.total_fee = (self.product_weight * 20) + 100\n",
        "  def printDetails(self):\n",
        "    print(f'''Customer Name: {self.name}\n",
        "Product Weight: {self.product_weight}\n",
        "Total fee: {self.total_fee}''')\n",
        "\n",
        "\n",
        "\n",
        "print(\"**********************\")\n",
        "p1 = ParcelKoro()\n",
        "p1.calculateFee()\n",
        "p1.printDetails()\n",
        "print(\"**********************\")\n",
        "p2 = ParcelKoro('Bob The Builder')\n",
        "p2.calculateFee()\n",
        "p2.printDetails()\n",
        "print(\"----------------------------\")\n",
        "p2.product_weight = 15\n",
        "p2.calculateFee()\n",
        "p2.printDetails()\n",
        "print(\"**********************\")\n",
        "p3 = ParcelKoro('Dora The Explorer', 10)\n",
        "p3.calculateFee('Dhanmondi')\n",
        "p3.printDetails()"
      ],
      "metadata": {
        "colab": {
          "base_uri": "https://localhost:8080/"
        },
        "id": "FlPtQqdEjkZ3",
        "outputId": "5aeb2a84-7d62-4aaa-e8d2-5d5c55ca4012"
      },
      "id": "FlPtQqdEjkZ3",
      "execution_count": null,
      "outputs": [
        {
          "output_type": "stream",
          "name": "stdout",
          "text": [
            "**********************\n",
            "Customer Name: No name set\n",
            "Product Weight: 0\n",
            "Total fee: 0\n",
            "**********************\n",
            "Customer Name: Bob The Builder\n",
            "Product Weight: 0\n",
            "Total fee: 0\n",
            "----------------------------\n",
            "Customer Name: Bob The Builder\n",
            "Product Weight: 15\n",
            "Total fee: 350\n",
            "**********************\n",
            "Customer Name: Dora The Explorer\n",
            "Product Weight: 10\n",
            "Total fee: 300\n"
          ]
        }
      ]
    },
    {
      "cell_type": "code",
      "source": [
        "#task 9\n",
        "class Batsman():\n",
        "  def __init__(self,name=0,run=0,ball=0):\n",
        "    if type(name)==str:\n",
        "      self.name=name\n",
        "      self.run=run\n",
        "      self.ball=ball\n",
        "    else:\n",
        "      self.name='New Batsman'\n",
        "      self.run=name\n",
        "      self.ball=run\n",
        "  def setName(self,name):\n",
        "    self.name=name\n",
        "  def battingStrikeRate(self):\n",
        "    self.rate=self.run / self.ball * 100\n",
        "    return self.rate\n",
        "  def printCareerStatistics(self):\n",
        "    print(f'''Name: {self.name}\n",
        "Runs Scored: {self.run} , Balls Faced: {self.ball}''')\n",
        "\n",
        "b1 = Batsman(6101, 7380)\n",
        "b1.printCareerStatistics()\n",
        "print(\"============================\")\n",
        "b2 = Batsman(\"Liton Das\", 678, 773)\n",
        "b2.printCareerStatistics()\n",
        "print(\"----------------------------\")\n",
        "print(b2.battingStrikeRate())\n",
        "print(\"============================\")\n",
        "b1.setName(\"Shakib Al Hasan\")\n",
        "b1.printCareerStatistics()\n",
        "print(\"----------------------------\")\n",
        "print(b1.battingStrikeRate())"
      ],
      "metadata": {
        "colab": {
          "base_uri": "https://localhost:8080/"
        },
        "id": "PeNKZkhajkRS",
        "outputId": "07c3c9f2-8652-461b-e293-624169f87602"
      },
      "id": "PeNKZkhajkRS",
      "execution_count": null,
      "outputs": [
        {
          "output_type": "stream",
          "name": "stdout",
          "text": [
            "Name: New Batsman\n",
            "Runs Scored: 6101 , Balls Faced: 7380\n",
            "============================\n",
            "Name: Liton Das\n",
            "Runs Scored: 678 , Balls Faced: 773\n",
            "----------------------------\n",
            "87.71021992238033\n",
            "============================\n",
            "Name: Shakib Al Hasan\n",
            "Runs Scored: 6101 , Balls Faced: 7380\n",
            "----------------------------\n",
            "82.66937669376694\n"
          ]
        }
      ]
    },
    {
      "cell_type": "code",
      "source": [
        "#task 10\n",
        "class EPL_Team():\n",
        "  def __init__(self,name,slogan='No Slogan'):\n",
        "    self.name=name\n",
        "    self.slogan=slogan\n",
        "    self.tittle=0\n",
        "  def changeSong(self,slogan):\n",
        "    self.slogan=slogan\n",
        "  def increaseTitle(self):\n",
        "    self.tittle+=1\n",
        "  def showClubInfo(self):\n",
        "    return f'''Name: {self.name}\n",
        "Song: {self.slogan}\n",
        "Total No of title: {self.tittle}'''\n",
        "\n",
        "\n",
        "manu = EPL_Team('Manchester United', 'Glory Glory Man United')\n",
        "chelsea = EPL_Team('Chelsea')\n",
        "print('===================')\n",
        "print(manu.showClubInfo())\n",
        "print('##################')\n",
        "manu.increaseTitle()\n",
        "print(manu.showClubInfo())\n",
        "print('===================')\n",
        "print(chelsea.showClubInfo())\n",
        "chelsea.changeSong('Keep the blue flag flying high')\n",
        "print(chelsea.showClubInfo())"
      ],
      "metadata": {
        "colab": {
          "base_uri": "https://localhost:8080/"
        },
        "id": "X4G2GC-ujkKj",
        "outputId": "72d072af-840f-4b36-8fbf-ee00e0b192ae"
      },
      "id": "X4G2GC-ujkKj",
      "execution_count": null,
      "outputs": [
        {
          "output_type": "stream",
          "name": "stdout",
          "text": [
            "===================\n",
            "Name: Manchester United\n",
            "Song: Glory Glory Man United\n",
            "Total No of title: 0\n",
            "##################\n",
            "Name: Manchester United\n",
            "Song: Glory Glory Man United\n",
            "Total No of title: 1\n",
            "===================\n",
            "Name: Chelsea\n",
            "Song: No Slogan\n",
            "Total No of title: 0\n",
            "Name: Chelsea\n",
            "Song: Keep the blue flag flying high\n",
            "Total No of title: 0\n"
          ]
        }
      ]
    },
    {
      "cell_type": "code",
      "execution_count": null,
      "id": "a36f223d",
      "metadata": {
        "id": "a36f223d",
        "outputId": "dcb63b38-0bc8-4d78-8463-f9674006dca7",
        "colab": {
          "base_uri": "https://localhost:8080/"
        }
      },
      "outputs": [
        {
          "output_type": "stream",
          "name": "stdout",
          "text": [
            "Author Name: Humayun Ahmed\n",
            "--------\n",
            "List of Books: \n",
            "Deyal\n",
            "Megher Opor Bari\n",
            "===================\n",
            "Default\n",
            "===================\n",
            "Author Name: Mario Puzo\n",
            "--------\n",
            "List of Books: \n",
            "The Godfather\n",
            "Omerta\n",
            "The Sicilian\n",
            "===================\n",
            "Author Name: Paolo Coelho\n",
            "--------\n",
            "List of Books: \n",
            "The Alchemist\n",
            "The Fifth Mountain\n"
          ]
        }
      ],
      "source": [
        "# task 11\n",
        "class Author():\n",
        "  def __init__(self,name='Default',*books):\n",
        "    self.name=name\n",
        "    self.books=books\n",
        "  def addBooks(self,*books):\n",
        "    self.books=books\n",
        "  def changeName(self,name):\n",
        "    self.name=name\n",
        "  def printDetails(self):\n",
        "    print('Author Name:', self.name)\n",
        "    print('--------')\n",
        "    print('List of Books: ')\n",
        "    for i in self.books:\n",
        "      print(i)\n",
        "\n",
        "\n",
        "auth1 = Author('Humayun Ahmed')\n",
        "auth1.addBooks('Deyal', 'Megher Opor Bari')\n",
        "auth1.printDetails()\n",
        "print('===================')\n",
        "auth2 = Author()\n",
        "print(auth2.name)\n",
        "auth2.changeName('Mario Puzo')\n",
        "auth2.addBooks('The Godfather', 'Omerta', 'The Sicilian')\n",
        "print('===================')\n",
        "auth2.printDetails()\n",
        "print('===================')\n",
        "auth3 = Author('Paolo Coelho', 'The Alchemist', 'The Fifth Mountain')\n",
        "auth3.printDetails()"
      ]
    },
    {
      "cell_type": "code",
      "source": [
        "#task 12\n",
        "class TaxiLagbe():\n",
        "  def __init__(self,texi_no,area):\n",
        "    self.texi_no=texi_no\n",
        "    self.area=area\n",
        "    self.dic={}\n",
        "  def addPassenger(self,*man):\n",
        "    if len(self.dic)<4:\n",
        "      self.man=man\n",
        "      for i in man:\n",
        "        split=i.split('_')\n",
        "        print(f'Dear {split[0]}! Welcome to TaxiLagbe.')\n",
        "        temp={split[0]:split[1]}\n",
        "        self.dic.update(temp)\n",
        "    else:\n",
        "      print('Taxi Full! No more passengers can be added.')\n",
        "    \n",
        "  def printDetails(self):\n",
        "    print(f'''Trip info for Taxi number: {self.texi_no}\n",
        "This taxi can cover only {self.area} area.\n",
        "Total passengers: {len(self.dic)}\n",
        "Passenger lists:''')\n",
        "    for i in self.dic:\n",
        "       print(i,end=',')\n",
        "    print()\n",
        "    total=0\n",
        "    for i in self.dic:\n",
        "      total+= int(self.dic[i])\n",
        "    print('Total collected fare:',total,'Taka' )\n",
        "\n",
        "taxi1 = TaxiLagbe('1010-01', 'Dhaka')\n",
        "print('-------------------------------')\n",
        "taxi1.addPassenger('Walker_100', 'Wood_200')\n",
        "taxi1.addPassenger('Matt_100')\n",
        "taxi1.addPassenger('Wilson_105')\n",
        "print('-------------------------------')\n",
        "taxi1.printDetails()\n",
        "print('-------------------------------')\n",
        "taxi1.addPassenger('Karen_200')\n",
        "print('-------------------------------')\n",
        "taxi1.printDetails()\n",
        "print('-------------------------------')\n",
        "taxi2 = TaxiLagbe('1010-02', 'Khulna')\n",
        "taxi2.addPassenger('Ronald_115')\n",
        "taxi2.addPassenger('Parker_215')\n",
        "print('-------------------------------')\n",
        "taxi2.printDetails()"
      ],
      "metadata": {
        "colab": {
          "base_uri": "https://localhost:8080/"
        },
        "id": "fN2DaVb3kYf7",
        "outputId": "a361b4a6-6735-4844-e4c3-e5e64174d0e0"
      },
      "id": "fN2DaVb3kYf7",
      "execution_count": null,
      "outputs": [
        {
          "output_type": "stream",
          "name": "stdout",
          "text": [
            "-------------------------------\n",
            "Dear Walker! Welcome to TaxiLagbe.\n",
            "Dear Wood! Welcome to TaxiLagbe.\n",
            "Dear Matt! Welcome to TaxiLagbe.\n",
            "Dear Wilson! Welcome to TaxiLagbe.\n",
            "-------------------------------\n",
            "Trip info for Taxi number: 1010-01\n",
            "This taxi can cover only Dhaka area.\n",
            "Total passengers: 4\n",
            "Passenger lists:\n",
            "Walker,Wood,Matt,Wilson,\n",
            "Total collected fare: 505 Taka\n",
            "-------------------------------\n",
            "Taxi Full! No more passengers can be added.\n",
            "-------------------------------\n",
            "Trip info for Taxi number: 1010-01\n",
            "This taxi can cover only Dhaka area.\n",
            "Total passengers: 4\n",
            "Passenger lists:\n",
            "Walker,Wood,Matt,Wilson,\n",
            "Total collected fare: 505 Taka\n",
            "-------------------------------\n",
            "Dear Ronald! Welcome to TaxiLagbe.\n",
            "Dear Parker! Welcome to TaxiLagbe.\n",
            "-------------------------------\n",
            "Trip info for Taxi number: 1010-02\n",
            "This taxi can cover only Khulna area.\n",
            "Total passengers: 2\n",
            "Passenger lists:\n",
            "Ronald,Parker,\n",
            "Total collected fare: 330 Taka\n"
          ]
        }
      ]
    },
    {
      "cell_type": "code",
      "execution_count": null,
      "id": "d1380ffd",
      "metadata": {
        "id": "d1380ffd",
        "outputId": "caab58b1-6288-4c5c-aa1e-e0480d204fa2",
        "colab": {
          "base_uri": "https://localhost:8080/"
        }
      },
      "outputs": [
        {
          "output_type": "stream",
          "name": "stdout",
          "text": [
            "Default Account\n",
            "0.0\n",
            "------------------------\n",
            "Oliver\n",
            "10000.0\n",
            "------------------------\n",
            "Liam\n",
            "0.0\n",
            "------------------------\n",
            "Noah\n",
            "400\n",
            "------------------------\n",
            "Sorry, Withdraw unsuccessful! The account balance after deducting withdraw amount is equal to or less than minimum.\n",
            "------------------------\n",
            "Sorry, Withdraw unsuccessful! The account balance after deducting withdraw amount is equal to or less than minimum.\n",
            "------------------------\n",
            "Withdraw successful! New balance is: 3071.0\n"
          ]
        }
      ],
      "source": [
        "# task 13\n",
        "class Account():\n",
        "  def __init__(self,name='Default Account',balance=0.0):\n",
        "    self.name=name\n",
        "    self.balance=balance\n",
        "  def details(self):\n",
        "    return (f'''{self.name}\n",
        "{self.balance}''')\n",
        "  def withdraw(self,money):\n",
        "    if (self.balance-money)<=3070.0:\n",
        "      print('Sorry, Withdraw unsuccessful! The account balance after deducting withdraw amount is equal to or less than minimum.')\n",
        "    else:\n",
        "      print('Withdraw successful! New balance is:',(self.balance-money))\n",
        "\n",
        "\n",
        "a1 = Account()\n",
        "print(a1.details())\n",
        "print(\"------------------------\")\n",
        "a1.name = \"Oliver\"\n",
        "a1.balance = 10000.0\n",
        "print(a1.details())\n",
        "print(\"------------------------\")\n",
        "a2 = Account(\"Liam\")\n",
        "print(a2.details())\n",
        "print(\"------------------------\")\n",
        "a3 = Account(\"Noah\",400)\n",
        "print(a3.details())\n",
        "print(\"------------------------\")\n",
        "a1.withdraw(6930)\n",
        "print(\"------------------------\")\n",
        "a2.withdraw(600)\n",
        "print(\"------------------------\")\n",
        "a1.withdraw(6929)\n"
      ]
    },
    {
      "cell_type": "code",
      "source": [
        "#task 14\n",
        "class StudentDatabase():\n",
        "  def __init__(self,name,id):\n",
        "    self.name=name\n",
        "    self.id=id\n",
        "    self.grades={}\n",
        "    \n",
        "  def calculateGPA(self,courses,semister):\n",
        "    self.courses=courses\n",
        "    self.semister=semister\n",
        "    self.course_list=[]\n",
        "    self.gpa=0.0\n",
        "    for i in courses:\n",
        "      split=i.split(': ')\n",
        "      self.course_list.append(split[0])\n",
        "      self.gpa+=float(split[1])\n",
        "    self.cgpa=self.gpa/len(self.course_list)\n",
        "    self.grade={tuple(self.course_list):round(self.cgpa, 2) }\n",
        "    self.temp_grades={self.semister:self.grade}\n",
        "    self.grades.update(self.temp_grades)\n",
        "\n",
        "    \n",
        "    \n",
        "  def printDetails(self):\n",
        "    print(f'''Name: {self.name}\n",
        "ID: {self.id}''')\n",
        "    for semister in self.grades:\n",
        "      print('Courses taken in',semister+':')\n",
        "      for courses in self.grades[semister]:\n",
        "        for course in courses:\n",
        "          print(course)\n",
        "        print('GPA:',self.grades[semister][courses])\n",
        "   \n",
        "    \n",
        "\n",
        "\n",
        "s1 = StudentDatabase('Pietro', '10101222')\n",
        "s1.calculateGPA(['CSE230: 4.0', 'CSE220: 4.0', 'MAT110: 4.0'],\n",
        "'Summer2020')\n",
        "s1.calculateGPA(['CSE250: 3.7', 'CSE330: 4.0'], 'Summer2021')\n",
        "print(f'Grades for {s1.name}\\n{s1.grades}')\n",
        "print('------------------------------------------------------')\n",
        "s1.printDetails()\n",
        "s2 = StudentDatabase('Wanda', '10103332')\n",
        "s2.calculateGPA(['CSE111: 3.7', 'CSE260: 3.7', 'ENG101: 4.0'],\n",
        "'Summer2022')\n",
        "print('------------------------------------------------------')\n",
        "print(f'Grades for {s2.name}\\n{s2.grades}')\n",
        "print('------------------------------------------------------')\n",
        "s2.printDetails()"
      ],
      "metadata": {
        "colab": {
          "base_uri": "https://localhost:8080/"
        },
        "id": "2pNr1HcDk_4T",
        "outputId": "4995c1d3-1e31-439a-ab9c-b22249db1937"
      },
      "id": "2pNr1HcDk_4T",
      "execution_count": null,
      "outputs": [
        {
          "output_type": "stream",
          "name": "stdout",
          "text": [
            "Grades for Pietro\n",
            "{'Summer2020': {('CSE230', 'CSE220', 'MAT110'): 4.0}, 'Summer2021': {('CSE250', 'CSE330'): 3.85}}\n",
            "------------------------------------------------------\n",
            "Name: Pietro\n",
            "ID: 10101222\n",
            "Courses taken in Summer2020:\n",
            "CSE230\n",
            "CSE220\n",
            "MAT110\n",
            "GPA: 4.0\n",
            "Courses taken in Summer2021:\n",
            "CSE250\n",
            "CSE330\n",
            "GPA: 3.85\n",
            "------------------------------------------------------\n",
            "Grades for Wanda\n",
            "{'Summer2022': {('CSE111', 'CSE260', 'ENG101'): 3.8}}\n",
            "------------------------------------------------------\n",
            "Name: Wanda\n",
            "ID: 10103332\n",
            "Courses taken in Summer2022:\n",
            "CSE111\n",
            "CSE260\n",
            "ENG101\n",
            "GPA: 3.8\n"
          ]
        }
      ]
    },
    {
      "cell_type": "code",
      "source": [
        "#ungraded\n",
        "#task 20\n",
        "# task 20\n",
        "class Student:\n",
        "    def __init__(self,name=None,dpt=None):\n",
        "        self.name=name\n",
        "        self.dpt=dpt\n",
        "        self.course=[]\n",
        "        if self.name == None and self.dpt==None:\n",
        "            print('Student name and department need to be set')\n",
        "        elif self.name !=None and self.dpt==None:\n",
        "            print('Department for',self.name,'needs to be set')\n",
        "        elif self.name!=None and self.dpt !=None:\n",
        "            print(f'{self.name} is from {self.dpt} department')\n",
        "    def update_name(self,new_n):\n",
        "        self.name=new_n\n",
        "    def update_department(self,new_dpt):\n",
        "        self.dpt=new_dpt\n",
        "    def enroll(self,*crs):\n",
        "        self.crs=list(crs)\n",
        "        self.course.extend(crs)\n",
        "    def printDetail(self):\n",
        "        print('Name:',self.name)\n",
        "        print('Department:',self.dpt)\n",
        "        print(f'{self.name} enrolled in {len(self.course)} course(s):')\n",
        "        for i in range(len(self.course)):\n",
        "            if i != len(self.course)-1:\n",
        "                print(self.course[i],end=',')\n",
        "            else:\n",
        "                print(self.course[i])\n",
        "        \n",
        "s1 = Student()\n",
        "print(\"=========================\")\n",
        "s2 = Student(\"Carol\")\n",
        "print(\"=========================\")\n",
        "s3 = Student(\"Jon\", \"EEE\")\n",
        "print(\"=========================\")\n",
        "s1.update_name(\"Bob\")\n",
        "s1.update_department(\"CSE\")\n",
        "s2.update_department(\"BBA\")\n",
        "s1.enroll(\"CSE110\", \"MAT110\", \"ENG091\")\n",
        "s2.enroll(\"BUS101\")\n",
        "s3.enroll(\"MAT110\", \"PHY111\")\n",
        "print(\"###########################\")\n",
        "s1.printDetail()\n",
        "print(\"=========================\")\n",
        "s2.printDetail()\n",
        "print(\"=========================\")\n",
        "s3.printDetail()"
      ],
      "metadata": {
        "colab": {
          "base_uri": "https://localhost:8080/"
        },
        "id": "9oY28kNhCjP-",
        "outputId": "d527225b-91d7-451f-b439-3d5ed3f11662"
      },
      "id": "9oY28kNhCjP-",
      "execution_count": null,
      "outputs": [
        {
          "output_type": "stream",
          "name": "stdout",
          "text": [
            "Student name and department need to be set\n",
            "=========================\n",
            "Department for Carol needs to be set\n",
            "=========================\n",
            "Jon is from EEE department\n",
            "=========================\n",
            "###########################\n",
            "Name: Bob\n",
            "Department: CSE\n",
            "Bob enrolled in 3 course(s):\n",
            "CSE110,MAT110,ENG091\n",
            "=========================\n",
            "Name: Carol\n",
            "Department: BBA\n",
            "Carol enrolled in 1 course(s):\n",
            "BUS101\n",
            "=========================\n",
            "Name: Jon\n",
            "Department: EEE\n",
            "Jon enrolled in 2 course(s):\n",
            "MAT110,PHY111\n"
          ]
        }
      ]
    },
    {
      "cell_type": "code",
      "source": [
        "#task 24"
      ],
      "metadata": {
        "id": "nZy7vmaQCx53"
      },
      "id": "nZy7vmaQCx53",
      "execution_count": null,
      "outputs": []
    }
  ],
  "metadata": {
    "kernelspec": {
      "display_name": "Python 3 (ipykernel)",
      "language": "python",
      "name": "python3"
    },
    "language_info": {
      "codemirror_mode": {
        "name": "ipython",
        "version": 3
      },
      "file_extension": ".py",
      "mimetype": "text/x-python",
      "name": "python",
      "nbconvert_exporter": "python",
      "pygments_lexer": "ipython3",
      "version": "3.9.7"
    },
    "colab": {
      "name": "cse111 assign4.ipynb",
      "provenance": [],
      "collapsed_sections": []
    }
  },
  "nbformat": 4,
  "nbformat_minor": 5
}