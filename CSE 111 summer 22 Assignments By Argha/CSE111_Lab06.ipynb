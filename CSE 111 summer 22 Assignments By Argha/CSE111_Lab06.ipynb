{
  "nbformat": 4,
  "nbformat_minor": 0,
  "metadata": {
    "colab": {
      "name": "CSE111_Lab06.ipynb",
      "provenance": []
    },
    "kernelspec": {
      "name": "python3",
      "display_name": "Python 3"
    },
    "language_info": {
      "name": "python"
    }
  },
  "cells": [
    {
      "cell_type": "code",
      "execution_count": null,
      "metadata": {
        "colab": {
          "base_uri": "https://localhost:8080/"
        },
        "id": "5EJMjIqH0eRw",
        "outputId": "ed16147c-bd11-4a08-fe6a-6a9c08c0a948"
      },
      "outputs": [
        {
          "output_type": "stream",
          "name": "stdout",
          "text": [
            "Id: 1\n",
            "Department: CSE\n",
            "Age: 21\n",
            "CGPA: 3.91\n",
            "-----------------------\n",
            "Id: 2\n",
            "Department: ECE\n",
            "Age: 21\n",
            "CGPA: 3.85\n",
            "-----------------------\n",
            "Id: 3\n",
            "Department: EEE\n",
            "Age: 22\n",
            "CGPA: 3.01\n",
            "-----------------------\n",
            "Id: 4\n",
            "Department: BBA\n",
            "Age: 23\n",
            "CGPA: 3.96\n",
            "Class variables are shared across all objects while instance variables are unique to each instance\n",
            "A class method provides functionality to a class itself, while an instance method provides functionality to one instance of a class.\n"
          ]
        }
      ],
      "source": [
        "#1\n",
        "class Student:\n",
        "  id=0\n",
        "  def __init__(self,name,dept,age,cg):\n",
        "    self.name=name\n",
        "    self.dept=dept\n",
        "    self.age=age\n",
        "    self.cg=cg\n",
        "    Student.id+=1\n",
        "  def get_details(self):\n",
        "    print(f'Id: {Student.id}\\nDepartment: {self.dept}\\nAge: {self.age}\\nCGPA: {self.cg}')\n",
        "  @classmethod\n",
        "  def from_String(cls,str1):\n",
        "      name,department,age,cgpa=str1.split('-')\n",
        "      return Student(name,department,int(age),float(cgpa))\n",
        "#driver\n",
        "s1 = Student(\"Samin\", \"CSE\", 21, 3.91)\n",
        "s1.get_details()\n",
        "print(\"-----------------------\")\n",
        "s2 = Student(\"Fahim\", \"ECE\", 21, 3.85)\n",
        "s2.get_details()\n",
        "print(\"-----------------------\")\n",
        "s3 = Student(\"Tahura\", \"EEE\", 22, 3.01)\n",
        "s3.get_details() \n",
        "print(\"-----------------------\")\n",
        "s4 = Student.from_String(\"Sumaiya-BBA-23-3.96\")\n",
        "s4.get_details()\n",
        "\n",
        "print('Class variables are shared across all objects while instance variables are unique to each instance')\n",
        "print('A class method provides functionality to a class itself, while an instance method provides functionality to one instance of a class.')\n",
        "\n"
      ]
    },
    {
      "cell_type": "code",
      "source": [
        "#2\n",
        "class Assassin():\n",
        "  num=0\n",
        "  def __init__(self,name,sr):\n",
        "    self.name=name\n",
        "    self.sr=sr\n",
        "    Assassin.num+=1\n",
        "  def printDetails(self):\n",
        "    print(f'Name: {self.name}\\nSuccess rate: {self.sr}%\\nTotal number of Assassin: {Assassin.num}')\n",
        "  @classmethod\n",
        "  def failureRate(cls,name,fr):\n",
        "    return Assassin(name,100-fr)\n",
        "  @classmethod\n",
        "  def failurePercentage(cls,name,fp):\n",
        "    return Assassin(name,100-int(fp[:-1]))\n",
        "\n",
        "john_wick = Assassin('John Wick', 100)\n",
        "john_wick.printDetails()\n",
        "print('================================')\n",
        "nagisa = Assassin.failureRate(\"Nagisa\", 20)\n",
        "nagisa.printDetails()\n",
        "print('================================')\n",
        "akabane = Assassin.failurePercentage(\"Akabane\", \"10%\")\n",
        "akabane.printDetails()\n"
      ],
      "metadata": {
        "colab": {
          "base_uri": "https://localhost:8080/"
        },
        "id": "tRX8GZR219xj",
        "outputId": "7d988dbf-dcbf-4008-dcd6-524bc035167e"
      },
      "execution_count": null,
      "outputs": [
        {
          "output_type": "stream",
          "name": "stdout",
          "text": [
            "Name: John Wick\n",
            "Success rate: 100%\n",
            "Total number of Assassin: 1\n",
            "================================\n",
            "Name: Nagisa\n",
            "Success rate: 80%\n",
            "Total number of Assassin: 2\n",
            "================================\n",
            "Name: Akabane\n",
            "Success rate: 90%\n",
            "Total number of Assassin: 3\n"
          ]
        }
      ]
    },
    {
      "cell_type": "code",
      "source": [
        "#3\n",
        "class Passenger():\n",
        "  count=0\n",
        "  def __init__(self,name):\n",
        "    self.name=name\n",
        "    self.fare=450\n",
        "    Passenger.count+=1\n",
        "  def set_bag_weight(self,kg):\n",
        "    if 21<=kg<=50:\n",
        "      self.fare+=50\n",
        "    elif kg>50:\n",
        "      self.fare+=100\n",
        "  def printDetail(self):\n",
        "    print(f'Name: {self.name}\\nBus Fare: {self.fare} taka')\n",
        "\n",
        "print('Total Passenger:', Passenger.count)\n",
        "p1 = Passenger(\"Jack\")\n",
        "p1.set_bag_weight(90)\n",
        "p2 = Passenger(\"Carol\")\n",
        "p2.set_bag_weight(10)\n",
        "p3 = Passenger(\"Mike\")\n",
        "p3.set_bag_weight(25)\n",
        "print(\"=========================\")\n",
        "p1.printDetail()\n",
        "print(\"=========================\")\n",
        "p2.printDetail()\n",
        "print(\"=========================\")\n",
        "p3.printDetail()\n",
        "print(\"=========================\")\n",
        "print(\"Total Passenger:\", Passenger.count)\n",
        "\n"
      ],
      "metadata": {
        "colab": {
          "base_uri": "https://localhost:8080/"
        },
        "id": "7G2MrAd5-JKh",
        "outputId": "fe6f150a-d92a-41bf-e3ab-9596c1819d97"
      },
      "execution_count": null,
      "outputs": [
        {
          "output_type": "stream",
          "name": "stdout",
          "text": [
            "Total Passenger: 0\n",
            "=========================\n",
            "Name: Jack\n",
            "Bus Fare: 550 taka\n",
            "=========================\n",
            "Name: Carol\n",
            "Bus Fare: 450 taka\n",
            "=========================\n",
            "Name: Mike\n",
            "Bus Fare: 500 taka\n",
            "=========================\n",
            "Total Passenger: 3\n"
          ]
        }
      ]
    },
    {
      "cell_type": "code",
      "source": [
        "#4\n",
        "class Travel:\n",
        "   count=0\n",
        "   def __init__(self,source,dest):\n",
        "      self.source=source\n",
        "      self.dest=dest\n",
        "      self.time='1:00'\n",
        "      Travel.count+=1\n",
        "   def set_time(self,time):\n",
        "      self.time=str(time)+':00'\n",
        "   def set_source(self,source):\n",
        "      self.source=source\n",
        "   def set_destination(self,dest):\n",
        "      self.dest=dest\n",
        "   def display_travel_info(self):\n",
        "      return f'Source: {self.source} \\nDestination: {self.dest} \\nFlight Time: {self.time}'\n",
        "   \n",
        "\n",
        "print('No. of Traveller =', Travel.count)\n",
        "print(\"=======================\")\n",
        "t1 = Travel(\"Dhaka\",\"India\")\n",
        "print(t1.display_travel_info())\n",
        "print(\"=======================\")\n",
        "t2 = Travel(\"Kuala Lampur\",\"Dhaka\")\n",
        "t2.set_time(23)\n",
        "print(t2.display_travel_info())\n",
        "print(\"=======================\")\n",
        "t3 = Travel(\"Dhaka\",\"New_Zealand\")\n",
        "t3.set_time(15)\n",
        "t3.set_destination(\"Germany\")\n",
        "print(t3.display_travel_info())\n",
        "print(\"=======================\")\n",
        "t4 = Travel(\"Dhaka\",\"India\")\n",
        "t4.set_time(9)\n",
        "t4.set_source(\"Malaysia\")\n",
        "t4.set_destination(\"Canada\")\n",
        "print(t4.display_travel_info())\n",
        "print(\"=======================\")\n",
        "print('No. of Traveller =', Travel.count)"
      ],
      "metadata": {
        "colab": {
          "base_uri": "https://localhost:8080/"
        },
        "id": "IdInX5n6_14v",
        "outputId": "d714ff92-e629-4608-a23e-2e33f761da0c"
      },
      "execution_count": null,
      "outputs": [
        {
          "output_type": "stream",
          "name": "stdout",
          "text": [
            "No. of Traveller = 0\n",
            "=======================\n",
            "Source: Dhaka \n",
            "Destination: India \n",
            "Flight Time: 1:00\n",
            "=======================\n",
            "Source: Kuala Lampur \n",
            "Destination: Dhaka \n",
            "Flight Time: 23:00\n",
            "=======================\n",
            "Source: Dhaka \n",
            "Destination: Germany \n",
            "Flight Time: 15:00\n",
            "=======================\n",
            "Source: Malaysia \n",
            "Destination: Canada \n",
            "Flight Time: 9:00\n",
            "=======================\n",
            "No. of Traveller = 4\n"
          ]
        }
      ]
    },
    {
      "cell_type": "code",
      "source": [
        "#5\n",
        "class Employee:\n",
        "   def __init__(self,name,wp):\n",
        "       self.name=name\n",
        "       self.workingPeriod=wp\n",
        "   @classmethod\n",
        "   def employeeByJoiningYear(cls,name,year):\n",
        "      wp=2022-year\n",
        "      return Employee(name,wp)\n",
        "   @staticmethod\n",
        "   def experienceCheck(wp,gender):\n",
        "      if wp<3:\n",
        "        if gender.lower()=='male':\n",
        "           return 'He is not experienced'\n",
        "        elif gender.lower()=='female':\n",
        "           return 'She is not experienced'\n",
        "      else:\n",
        "        if gender.lower()=='male':\n",
        "           return 'He is experienced'\n",
        "        elif gender.lower()=='female':\n",
        "           return 'She is experienced'\n",
        "# Write your code here\n",
        "employee1 = Employee('Dororo', 3)\n",
        "employee2 = Employee.employeeByJoiningYear('Harry', 2016)\n",
        "print(employee1.workingPeriod)\n",
        "print(employee2.workingPeriod)\n",
        "print(employee1.name)\n",
        "print(employee2.name)\n",
        "print(Employee.experienceCheck(2, \"male\"))\n",
        "print(Employee.experienceCheck(3, \"female\"))"
      ],
      "metadata": {
        "colab": {
          "base_uri": "https://localhost:8080/"
        },
        "id": "-TXlZ7z8A3tl",
        "outputId": "f01bbfeb-c13c-4e50-8165-ba85ccb71855"
      },
      "execution_count": null,
      "outputs": [
        {
          "output_type": "stream",
          "name": "stdout",
          "text": [
            "3\n",
            "6\n",
            "Dororo\n",
            "Harry\n",
            "He is not experienced\n",
            "She is experienced\n"
          ]
        }
      ]
    },
    {
      "cell_type": "code",
      "source": [
        "#6\n",
        "class Laptop:\n",
        "   laptopCount=0\n",
        "   def __init__(self,name,count):\n",
        "       self.name=name\n",
        "       self.count=count\n",
        "       Laptop.laptopCount+=self.count\n",
        "   @classmethod\n",
        "   def advantage(cls):\n",
        "       print('laptops are portable')\n",
        "   @classmethod \n",
        "   def resetCount(cls):\n",
        "       cls.laptopCount=0\n",
        "\n",
        "       \n",
        "\n",
        "lenovo = Laptop(\"Lenovo\", 5);\n",
        "dell = Laptop(\"Dell\", 7);\n",
        "print(lenovo.name, lenovo.count)\n",
        "print(dell.name, dell.count)\n",
        "print(\"Total number of Laptops\", Laptop.laptopCount)\n",
        "Laptop.advantage()\n",
        "Laptop.resetCount()\n",
        "print(\"Total number of Laptops\", Laptop.laptopCount)\n"
      ],
      "metadata": {
        "colab": {
          "base_uri": "https://localhost:8080/"
        },
        "id": "tyGJuBrGBj64",
        "outputId": "7477eb73-6fb5-4a50-a36e-faaff8b56132"
      },
      "execution_count": null,
      "outputs": [
        {
          "output_type": "stream",
          "name": "stdout",
          "text": [
            "Lenovo 5\n",
            "Dell 7\n",
            "Total number of Laptops 12\n",
            "laptops are portable\n",
            "Total number of Laptops 0\n"
          ]
        }
      ]
    },
    {
      "cell_type": "code",
      "source": [
        "#7\n",
        "class Cat:\n",
        "   Number_of_cats=0\n",
        "   clr='White'\n",
        "   pos='sitting'\n",
        "   def __init__(self,clr,pos):\n",
        "       self.clr=clr\n",
        "       self.pos=pos\n",
        "       Cat.Number_of_cats+=1\n",
        "   @classmethod\n",
        "   def no_parameter(cls):\n",
        "       return Cat(cls.clr,cls.pos)\n",
        "   @classmethod\n",
        "   def first_parameter(cls,clr):\n",
        "       cls.clr=clr\n",
        "       return Cat(cls.clr,cls.pos)\n",
        "   @classmethod\n",
        "   def second_parameter(cls,pos):\n",
        "       cls.pos=pos\n",
        "       return Cat('Grey',cls.pos)\n",
        "   def printCat(self):\n",
        "       print(f'{self.clr} cat is {self.pos}')\n",
        "   def  changeColor(self,clr):\n",
        "       self.clr=clr\n",
        "\n",
        "\n",
        "\n",
        "print(\"Total number of cats:\", Cat.Number_of_cats)\n",
        "c1 = Cat.no_parameter()\n",
        "c2 = Cat.first_parameter(\"Black\")\n",
        "c3 = Cat(\"Brown\", \"jumping\")\n",
        "c4 = Cat(\"Red\", \"purring\")\n",
        "c5 = Cat.second_parameter(\"playing\")\n",
        "print(\"=======================\")\n",
        "c1.printCat()\n",
        "c2.printCat()\n",
        "c3.printCat()\n",
        "c4.printCat()\n",
        "c5.printCat()\n",
        "c1.changeColor(\"Blue\")\n",
        "c3.changeColor(\"Purple\")\n",
        "c1.printCat()\n",
        "c3.printCat()\n",
        "print(\"=======================\")\n",
        "print(\"Total number of cats:\", Cat.Number_of_cats)"
      ],
      "metadata": {
        "colab": {
          "base_uri": "https://localhost:8080/"
        },
        "id": "bFQTniMJB0rU",
        "outputId": "e9135d6e-f5db-428c-ae19-14c64d106f60"
      },
      "execution_count": null,
      "outputs": [
        {
          "output_type": "stream",
          "name": "stdout",
          "text": [
            "Total number of cats: 0\n",
            "=======================\n",
            "White cat is sitting\n",
            "Black cat is sitting\n",
            "Brown cat is jumping\n",
            "Red cat is purring\n",
            "Grey cat is playing\n",
            "Blue cat is sitting\n",
            "Purple cat is jumping\n",
            "=======================\n",
            "Total number of cats: 5\n"
          ]
        }
      ]
    },
    {
      "cell_type": "code",
      "source": [
        "#8\n",
        "import math\n",
        "class Cylinder:\n",
        "   radius=5\n",
        "   height=18\n",
        "   def __init__(self,radius,height):\n",
        "      print(f'Default Radius={Cylinder.radius} and Height={Cylinder.height}')\n",
        "      Cylinder.radius=radius\n",
        "      Cylinder.height=height\n",
        "      print(f'Updated: Radius={Cylinder.radius} and Height={Cylinder.height}')\n",
        "   @classmethod\n",
        "   def swap(cls,h,r):\n",
        "      return Cylinder(r,h) \n",
        "   @classmethod\n",
        "   def changeFormat(cls,info):\n",
        "      radius,height=info.split('-')\n",
        "      return Cylinder(float(radius),float(height))\n",
        "   @staticmethod\n",
        "   def area(radius,height):\n",
        "      print(f'Area: {(2*math.pi*radius**2)+(2*math.pi*radius*height)}')\n",
        "   @staticmethod\n",
        "   def volume(radius,height):\n",
        "      print(f'Volume: {math.pi*((int(radius))**2)*int(height)}')      \n",
        "      \n",
        "c1 = Cylinder(0,0)\n",
        "Cylinder.area(c1.radius,c1.height)\n",
        "Cylinder.volume(c1.radius,c1.height)\n",
        "print(\"===============================\")\n",
        "c2 = Cylinder.swap(8,3)\n",
        "c2.area(c2.radius,c2.height)\n",
        "c2.volume(c2.radius,c2.height)\n",
        "print(\"===============================\")\n",
        "c3 = Cylinder.changeFormat(\"7-13\")\n",
        "c3.area(c3.radius,c3.height)\n",
        "c3.volume(c3.radius,c3.height)\n",
        "print(\"===============================\")\n",
        "Cylinder(0.3,5.56).area(Cylinder.radius,Cylinder.height)\n",
        "#print(Cylinder.radius,Cylinder.height)\n",
        "print(\"===============================\")\n",
        "Cylinder(3,5).volume(Cylinder.radius,Cylinder.height)"
      ],
      "metadata": {
        "colab": {
          "base_uri": "https://localhost:8080/"
        },
        "id": "MOMUf44QCrCV",
        "outputId": "26925be1-2e67-4bfb-c750-6560e468633f"
      },
      "execution_count": null,
      "outputs": [
        {
          "output_type": "stream",
          "name": "stdout",
          "text": [
            "Default Radius=5 and Height=18\n",
            "Updated: Radius=0 and Height=0\n",
            "Area: 0.0\n",
            "Volume: 0.0\n",
            "===============================\n",
            "Default Radius=0 and Height=0\n",
            "Updated: Radius=3 and Height=8\n",
            "Area: 207.34511513692635\n",
            "Volume: 226.1946710584651\n",
            "===============================\n",
            "Default Radius=3 and Height=8\n",
            "Updated: Radius=7.0 and Height=13.0\n",
            "Area: 879.645943005142\n",
            "Volume: 2001.1945203366981\n",
            "===============================\n",
            "Default Radius=7.0 and Height=13.0\n",
            "Updated: Radius=0.3 and Height=5.56\n",
            "Area: 11.045839770021713\n",
            "===============================\n",
            "Default Radius=0.3 and Height=5.56\n",
            "Updated: Radius=3 and Height=5\n",
            "Volume: 141.3716694115407\n"
          ]
        }
      ]
    },
    {
      "cell_type": "code",
      "source": [
        "#9\n",
        "class Student:\n",
        "   total_std=0\n",
        "   bracu_std=0\n",
        "   other_uni_std=0    \n",
        "   def __init__(self,name,dept,ins=\"Brac University\"):\n",
        "      self.name=name\n",
        "      self.dept=dept\n",
        "      self.ins=ins\n",
        "      Student.total_std+=1\n",
        "      if self.ins==\"Brac University\":\n",
        "         Student.bracu_std+=1\n",
        "      else:\n",
        "         Student.other_uni_std+=1 \n",
        "\n",
        "   @classmethod \n",
        "   def printDetails(cls):\n",
        "      print(f'Total Student(s):{cls.total_std}\\nBRAC University Student(s):{cls.bracu_std}\\nOther Institution Student(s):{cls.other_uni_std}') \n",
        "\n",
        "   @classmethod\n",
        "   def createStudent(cls,*info):\n",
        "      if len(info)==2:\n",
        "        name,dept=info\n",
        "        return Student(name,dept)\n",
        "      elif len(info)==3:\n",
        "        name,dept,ins=info\n",
        "        return Student(name,dept,ins)\n",
        "   def individualDetail(self):\n",
        "      print(f'Name: {self.name}\\nDepartment: {self.dept}\\nInstitution: {self.ins}')\n",
        "       \n",
        "\n",
        "\n",
        "Student.printDetails()\n",
        "print('#########################')\n",
        "mikasa = Student('Mikasa Ackerman', \"CSE\")\n",
        "mikasa.individualDetail()\n",
        "print('------------------------------------------')\n",
        "Student.printDetails()\n",
        "print('========================')\n",
        "harry = Student.createStudent('Harry Potter', \"Defence Against DarkArts\", \"Hogwarts ins\")\n",
        "harry.individualDetail()\n",
        "print('-------------------------------------------')\n",
        "Student.printDetails()\n",
        "print('=========================')\n",
        "levi = Student.createStudent(\"Levi Ackerman\", \"CSE\")\n",
        "levi.individualDetail()\n",
        "print('--------------------------------------------')\n",
        "Student.printDetails()"
      ],
      "metadata": {
        "colab": {
          "base_uri": "https://localhost:8080/"
        },
        "id": "yX6BlN23C68J",
        "outputId": "f848a8aa-3068-4d41-9cec-c2b728f7e8bd"
      },
      "execution_count": null,
      "outputs": [
        {
          "output_type": "stream",
          "name": "stdout",
          "text": [
            "Total Student(s):0\n",
            "BRAC University Student(s):0\n",
            "Other Institution Student(s):0\n",
            "#########################\n",
            "Name: Mikasa Ackerman\n",
            "Department: CSE\n",
            "Institution: Brac University\n",
            "------------------------------------------\n",
            "Total Student(s):1\n",
            "BRAC University Student(s):1\n",
            "Other Institution Student(s):0\n",
            "========================\n",
            "Name: Harry Potter\n",
            "Department: Defence Against DarkArts\n",
            "Institution: Hogwarts ins\n",
            "-------------------------------------------\n",
            "Total Student(s):2\n",
            "BRAC University Student(s):1\n",
            "Other Institution Student(s):1\n",
            "=========================\n",
            "Name: Levi Ackerman\n",
            "Department: CSE\n",
            "Institution: Brac University\n",
            "--------------------------------------------\n",
            "Total Student(s):3\n",
            "BRAC University Student(s):2\n",
            "Other Institution Student(s):1\n"
          ]
        }
      ]
    },
    {
      "cell_type": "code",
      "source": [
        "#10\n",
        "class SultansDine:\n",
        "   t_branch=0\n",
        "   t_sell=0\n",
        "   lst=[]\n",
        "   def __init__(self,b_name):\n",
        "      self.b_name=b_name\n",
        "      self.branch_sell=0\n",
        "      SultansDine.t_branch+=1\n",
        "   def sellQuantity(self,q):\n",
        "      if q<10:\n",
        "         self.branch_sell=q*300\n",
        "      elif 10<=q<20:\n",
        "         self.branch_sell=q*350\n",
        "      else:\n",
        "         self.branch_sell=q*400\n",
        "      SultansDine.t_sell+=self.branch_sell\n",
        "      SultansDine.lst.append(self.b_name)\n",
        "      SultansDine.lst.append(self.branch_sell)\n",
        " \n",
        "   def branchInformation(self):\n",
        "      print('Branch Name:',self.b_name)\n",
        "      print(f'Branch Sell: {self.branch_sell} Taka')\n",
        "   @classmethod\n",
        "   def details(cls):\n",
        "      print('Total Number of branch(s):',cls.t_branch)\n",
        "      print('Total sell:',cls.t_sell,'Taka')\n",
        "      for i in range(0,len(cls.lst),2):\n",
        "          print(f'Branch Name:{cls.lst[i]},Branch Sell:{cls.lst[i+1]} Taka')\n",
        "          print(f\"Branch consists of total sell's: {round(((cls.lst[i+1])/cls.t_sell)*100,2)}%\")\n",
        "\n",
        "\n",
        "\n",
        "\n",
        "SultansDine.details()\n",
        "print('########################')\n",
        "dhanmodi = SultansDine('Dhanmondi')\n",
        "dhanmodi.sellQuantity(25)\n",
        "dhanmodi.branchInformation()\n",
        "print('-----------------------------------------')\n",
        "SultansDine.details()\n",
        "print('========================')\n",
        "baily_road = SultansDine('Baily Road')\n",
        "baily_road.sellQuantity(15)\n",
        "baily_road.branchInformation()\n",
        "print('-----------------------------------------')\n",
        "SultansDine.details()\n",
        "print('========================')\n",
        "gulshan = SultansDine('Gulshan')\n",
        "gulshan.sellQuantity(9)\n",
        "gulshan.branchInformation()\n",
        "print('-----------------------------------------')\n",
        "SultansDine.details()"
      ],
      "metadata": {
        "colab": {
          "base_uri": "https://localhost:8080/"
        },
        "id": "7YRP2cnQDsCb",
        "outputId": "9ddb90e1-85b0-4ae9-930e-7b0daeb2aafc"
      },
      "execution_count": null,
      "outputs": [
        {
          "output_type": "stream",
          "name": "stdout",
          "text": [
            "Total Number of branch(s): 0\n",
            "Total sell: 0 Taka\n",
            "########################\n",
            "Branch Name: Dhanmondi\n",
            "Branch Sell: 10000 Taka\n",
            "-----------------------------------------\n",
            "Total Number of branch(s): 1\n",
            "Total sell: 10000 Taka\n",
            "Branch Name:Dhanmondi,Branch Sell:10000 Taka\n",
            "Branch consists of total sell's: 100.0%\n",
            "========================\n",
            "Branch Name: Baily Road\n",
            "Branch Sell: 5250 Taka\n",
            "-----------------------------------------\n",
            "Total Number of branch(s): 2\n",
            "Total sell: 15250 Taka\n",
            "Branch Name:Dhanmondi,Branch Sell:10000 Taka\n",
            "Branch consists of total sell's: 65.57%\n",
            "Branch Name:Baily Road,Branch Sell:5250 Taka\n",
            "Branch consists of total sell's: 34.43%\n",
            "========================\n",
            "Branch Name: Gulshan\n",
            "Branch Sell: 2700 Taka\n",
            "-----------------------------------------\n",
            "Total Number of branch(s): 3\n",
            "Total sell: 17950 Taka\n",
            "Branch Name:Dhanmondi,Branch Sell:10000 Taka\n",
            "Branch consists of total sell's: 55.71%\n",
            "Branch Name:Baily Road,Branch Sell:5250 Taka\n",
            "Branch consists of total sell's: 29.25%\n",
            "Branch Name:Gulshan,Branch Sell:2700 Taka\n",
            "Branch consists of total sell's: 15.04%\n"
          ]
        }
      ]
    },
    {
      "cell_type": "code",
      "source": [
        "#11\n",
        "class Puzzle:\n",
        "    x = 0\n",
        "    def methodA(self):\n",
        "        Puzzle.x = 5 \n",
        "        z = Puzzle.x + self.methodB(Puzzle.x)\n",
        "        print(Puzzle.x, z)\n",
        "        z = self.methodB(z + 2) + Puzzle.x\n",
        "        print(Puzzle.x, z)\n",
        "        self.methodB(Puzzle.x, z)\n",
        "        print(Puzzle.x, z)\n",
        " \n",
        "    def methodB(self, *args):\n",
        "        if len(args) == 1:\n",
        "            y = args[0]\n",
        "            Puzzle.x = y + Puzzle.x\n",
        "            print(Puzzle.x, y)\n",
        "            return Puzzle.x + 3\n",
        "        else:\n",
        "            z, x = args\n",
        "            z = z + 1\n",
        "            x = x + 1\n",
        "            print(z, x)\n",
        "\n",
        "p = Puzzle()\n",
        "p.methodA()\n",
        "p.methodA()\n",
        "p = Puzzle()\n",
        "p.methodA()\n",
        "p.methodB(7)"
      ],
      "metadata": {
        "colab": {
          "base_uri": "https://localhost:8080/"
        },
        "id": "GQDk_drGKcKa",
        "outputId": "7b7b1ca0-a85f-4cc3-b87c-31b454d154b5"
      },
      "execution_count": null,
      "outputs": [
        {
          "output_type": "stream",
          "name": "stdout",
          "text": [
            "10 5\n",
            "10 18\n",
            "30 20\n",
            "30 63\n",
            "31 64\n",
            "30 63\n",
            "10 5\n",
            "10 18\n",
            "30 20\n",
            "30 63\n",
            "31 64\n",
            "30 63\n",
            "10 5\n",
            "10 18\n",
            "30 20\n",
            "30 63\n",
            "31 64\n",
            "30 63\n",
            "37 7\n"
          ]
        },
        {
          "output_type": "execute_result",
          "data": {
            "text/plain": [
              "40"
            ]
          },
          "metadata": {},
          "execution_count": 30
        }
      ]
    },
    {
      "cell_type": "code",
      "source": [
        "#12\n",
        "class FinalT6A:\n",
        "    temp = 3\n",
        " \n",
        "    def __init__(self, x, p):\n",
        "        self.sum, self.y = 0, 2\n",
        "        FinalT6A.temp += 3\n",
        "        self.y = self.temp - p\n",
        "        self.sum = self.temp + x\n",
        "        print(x, self.y, self.sum)\n",
        "    \n",
        "    def methodA(self):\n",
        "        x, y = 0, 0\n",
        "        y = y + self.y\n",
        "        x = self.y + 2 + self.temp\n",
        "        self.sum = x + y + self.methodB(self.temp, y)\n",
        "        print(x, y, self.sum)\n",
        "    \n",
        "    def methodB(self, temp, n):\n",
        "        x = 0\n",
        "        FinalT6A.temp += 1\n",
        "        self.y = self.y + (FinalT6A.temp)\n",
        "        FinalT6A.temp -= 1\n",
        "        x = x + 2 + n\n",
        "        self.sum = self.sum + x + self.y\n",
        "        print(x, self.y, self.sum)\n",
        "        return self.sum\n",
        "q1 = FinalT6A(2,1)\n",
        "q1.methodA()\n",
        "q1.methodA()\n"
      ],
      "metadata": {
        "colab": {
          "base_uri": "https://localhost:8080/"
        },
        "id": "5pLyhQKbLn7b",
        "outputId": "1b9b671a-31dd-4661-8eb7-70e9a5cb7629"
      },
      "execution_count": null,
      "outputs": [
        {
          "output_type": "stream",
          "name": "stdout",
          "text": [
            "2 5 8\n",
            "7 12 27\n",
            "13 5 45\n",
            "14 19 78\n",
            "20 12 110\n"
          ]
        }
      ]
    },
    {
      "cell_type": "code",
      "source": [
        "#13\n",
        "class A:\n",
        "    temp = 4\n",
        "    def __init__(self):\n",
        "        self.y = self.temp - 2\n",
        "        self.sum = self.temp + 1\n",
        "        A.temp -= 2\n",
        "        self.methodA(3, 4)\n",
        "    def methodA(self, m, n):\n",
        "        x = 0\n",
        "        self.y = self.y + m + (self.temp)\n",
        "        A.temp += 1\n",
        "        x = x + 1 + n\n",
        "        self.sum = self.sum + x + self.y\n",
        "        print(x, self.y, self.sum)\n",
        "    \n",
        "class B:\n",
        "    x = 0\n",
        "    def __init__(self, b = None):\n",
        "        self.y, self.temp, self.sum = 5, -5, 2\n",
        " \n",
        "        if b == None:\n",
        "            self.y = self.temp + 3\n",
        "            self.sum = 3 + self.temp + 2\n",
        "            self.temp -= 2\n",
        "        else:\n",
        "            self.sum = b.sum\n",
        "            B.x = b.x\n",
        "            b.methodB(2, 3)\n",
        "    def methodA(self, m, n):\n",
        "        x = 2\n",
        "        self.y = self.y + m + (self.temp)\n",
        "        self.temp += 1\n",
        "        x = x + 5 + n\n",
        "        self.sum = self.sum + x + self.y\n",
        "        print(x, self.y, self.sum)\n",
        "    def methodB(self, m, n):\n",
        "        y = 0\n",
        "        y = y + self.y\n",
        "        B.x = self.y + 2 + self.temp\n",
        "        self.methodA(self.x, y)\n",
        "        self.sum = self.x + y + self.sum\n",
        "        print(self.x, y, self.sum)\n",
        "\n",
        "a1=A()\n",
        "b1=B()\n",
        "b2=B(b1)\n",
        "b1.methodA(1,2)\n",
        "b2.methodB(3,2)"
      ],
      "metadata": {
        "colab": {
          "base_uri": "https://localhost:8080/"
        },
        "id": "m5X5hOwwLpKF",
        "outputId": "6d1e44c6-875d-443d-a6a4-3063a91a9284"
      },
      "execution_count": null,
      "outputs": [
        {
          "output_type": "stream",
          "name": "stdout",
          "text": [
            "5 7 17\n",
            "5 -16 -11\n",
            "-7 -2 -20\n",
            "9 -21 -32\n",
            "12 2 14\n",
            "2 5 21\n"
          ]
        }
      ]
    },
    {
      "cell_type": "code",
      "source": [
        "#14\n",
        "class msgClass:\n",
        "    def __init__(self):\n",
        "        self.content = 0\n",
        " \n",
        "class Quiz3:\n",
        "    x = 0\n",
        "    def __init__(self, k = None):\n",
        "        self.sum, self.y = 0, 0\n",
        "        if k is None:\n",
        "            self.sum = 5\n",
        "            Quiz3.x = 2\n",
        "            self.y = 2\n",
        "        else:\n",
        "            self.sum = self.sum + k\n",
        "            self.y = 3\n",
        "            Quiz3.x += 2    \n",
        "    def methodA(self):\n",
        "        x = 1\n",
        "        y = 1\n",
        "        msg = [None]\n",
        "        myMsg = msgClass()\n",
        "        myMsg.content = Quiz3.x\n",
        "        msg[0] = myMsg\n",
        "        msg[0].content = self.y + myMsg.content\n",
        "        self.y = self.y + self.methodB(msg[0])\n",
        "        y = self.methodB(msg[0]) + self.y\n",
        "        x = y + self.methodB(msg, msg[0])\n",
        "        self.sum = x + y + msg[0].content\n",
        "        print(x, y, self.sum)\n",
        "    def methodB(self, *args):\n",
        "        if len(args) == 2:\n",
        "            mg2, mg1 = args\n",
        "            x = 2\n",
        "            self.y = self.y + mg2[0].content\n",
        "            mg2[0].content = self.y + mg1.content\n",
        "            x = x + 2 + mg1.content\n",
        "            self.sum = self.sum + x + self.y\n",
        "            mg1.content = self.sum - mg2[0].content\n",
        "            print(Quiz3.x, self.y, self.sum)\n",
        "            return self.sum\n",
        "        \n",
        "        elif len(args) == 1:\n",
        "            mg1, = args\n",
        "            x = 1\n",
        "            y = 2\n",
        "            y = self.sum + mg1.content\n",
        "            self.y = y + mg1.content\n",
        "            x = Quiz3.x + 5 + mg1.content\n",
        "            self.sum = self.sum + x + y\n",
        "            Quiz3.x = mg1.content + x + 3\n",
        "            print(x, y, self.sum)\n",
        "            return y\n",
        "\n",
        "a1 = Quiz3()\n",
        "a2 = Quiz3(5)\n",
        "msg = msgClass()\n",
        "a1.methodA()\n",
        "a2.methodB(msg)\n"
      ],
      "metadata": {
        "colab": {
          "base_uri": "https://localhost:8080/"
        },
        "id": "-STkWIqJLqcm",
        "outputId": "3ffeccf2-b69f-490e-f063-9b381af13390"
      },
      "execution_count": null,
      "outputs": [
        {
          "output_type": "stream",
          "name": "stdout",
          "text": [
            "15 11 31\n",
            "35 37 103\n",
            "44 49 211\n",
            "291 80 527\n",
            "49 5 59\n"
          ]
        },
        {
          "output_type": "execute_result",
          "data": {
            "text/plain": [
              "5"
            ]
          },
          "metadata": {},
          "execution_count": 35
        }
      ]
    },
    {
      "cell_type": "code",
      "source": [
        ""
      ],
      "metadata": {
        "id": "Br6SctrNNR5B"
      },
      "execution_count": null,
      "outputs": []
    }
  ]
}