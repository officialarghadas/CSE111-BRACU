{
  "nbformat": 4,
  "nbformat_minor": 0,
  "metadata": {
    "colab": {
      "name": "A8CSE111_ayO_On.ipynb",
      "provenance": [],
      "collapsed_sections": []
    },
    "kernelspec": {
      "name": "python3",
      "display_name": "Python 3"
    },
    "language_info": {
      "name": "python"
    }
  },
  "cells": [
    {
      "cell_type": "code",
      "source": [
        "#Task1\n",
        "class RealNumber:\n",
        "  def __init__(self, r=0):\n",
        "    self.__realValue = r\n",
        "  def getRealValue(self):\n",
        "    return self.__realValue\n",
        "  def setRealValue(self, r):\n",
        "    self.__realValue = r\n",
        "  def __str__(self):\n",
        "    return 'RealPart: '+str(self.getRealValue())\n",
        "\n",
        "class ComplexNumber(RealNumber):\n",
        "  def __init__(self,r=1.0,i=1.0):\n",
        "    super().__init__(float(r))\n",
        "    self.i=float(i)\n",
        "  def __str__(self):\n",
        "    return f'{super().__str__()}\\nImaginaryPart: {self.i}'\n",
        "\n",
        "\n",
        "cn1 = ComplexNumber()\n",
        "print(cn1)\n",
        "print('---------')\n",
        "cn2 = ComplexNumber(5,7)\n",
        "print(cn2)"
      ],
      "metadata": {
        "colab": {
          "base_uri": "https://localhost:8080/"
        },
        "id": "zQPQAwKB8VNY",
        "outputId": "bece530c-3425-4128-9882-fe8506a9e35d"
      },
      "execution_count": null,
      "outputs": [
        {
          "output_type": "stream",
          "name": "stdout",
          "text": [
            "RealPart: 1.0\n",
            "ImaginaryPart: 1.0\n",
            "---------\n",
            "RealPart: 5.0\n",
            "ImaginaryPart: 7.0\n"
          ]
        }
      ]
    },
    {
      "cell_type": "code",
      "source": [
        "#2\n",
        "class RealNumber:\n",
        "  def __init__(self, number=0):\n",
        "    self.number = number\n",
        "  def __add__(self, anotherRealNumber):\n",
        "    return self.number + anotherRealNumber.number\n",
        "  def __sub__(self, anotherRealNumber):\n",
        "    return self.number - anotherRealNumber.number\n",
        "  def __str__(self):\n",
        "    return str(self.number)\n",
        "\n",
        "class ComplexNumber(RealNumber):\n",
        "   def __init__(self,real,i):\n",
        "     super().__init__(int(str(real))) \n",
        "     self.i=i\n",
        "   def __str__(self):\n",
        "     if self.i<0:\n",
        "        return f'{self.number} - {-1*self.i}i'\n",
        "     else:\n",
        "        return f'{self.number} + {self.i}i'\n",
        "   def __add__(self,other):\n",
        "      a=self.number+other.number\n",
        "      b=self.i+other.i\n",
        "      return ComplexNumber(a,b)\n",
        "   def __sub__(self,other):\n",
        "      a=self.number-other.number\n",
        "      b=self.i-other.i\n",
        "      return ComplexNumber(a,b)\n",
        "\n",
        "r1 = RealNumber(3)\n",
        "r2 = RealNumber(5)\n",
        "print(r1+r2)\n",
        "cn1 = ComplexNumber(2, 1)\n",
        "print(cn1)\n",
        "cn2 = ComplexNumber(r1, 5)\n",
        "print(cn2)\n",
        "cn3 = cn1 + cn2\n",
        "print(cn3)\n",
        "cn4 = cn1 - cn2\n",
        "print(cn4)"
      ],
      "metadata": {
        "colab": {
          "base_uri": "https://localhost:8080/"
        },
        "id": "vNdCAEFy46fh",
        "outputId": "633aace3-2996-48eb-ab41-ec783acf165a"
      },
      "execution_count": null,
      "outputs": [
        {
          "output_type": "stream",
          "name": "stdout",
          "text": [
            "8\n",
            "2 + 1i\n",
            "3 + 5i\n",
            "5 + 6i\n",
            "-1 - 4i\n"
          ]
        }
      ]
    },
    {
      "cell_type": "code",
      "source": [
        "#3\n",
        "class Account:\n",
        "  def __init__(self, balance):\n",
        "    self._balance = balance\n",
        "  def getBalance(self):\n",
        "    return self._balance\n",
        "class CheckingAccount(Account):\n",
        "  numberOfAccount=0\n",
        "  def __init__(self,b=0.0):\n",
        "    super().__init__(b)\n",
        "    CheckingAccount.numberOfAccount+=1\n",
        "  def __str__(self):\n",
        "    return f'Account Balance: {super().getBalance()}'\n",
        "\n",
        "\n",
        "print('Number of Checking Accounts: ', CheckingAccount.numberOfAccount)\n",
        "print(CheckingAccount())\n",
        "print(CheckingAccount(100.00))\n",
        "print(CheckingAccount(200.00))\n",
        "print('Number of Checking Accounts: ', CheckingAccount.numberOfAccount)"
      ],
      "metadata": {
        "colab": {
          "base_uri": "https://localhost:8080/"
        },
        "id": "m9GLeunW7c_q",
        "outputId": "9b276fbb-93a8-4079-d2bf-b54de3edfca6"
      },
      "execution_count": null,
      "outputs": [
        {
          "output_type": "stream",
          "name": "stdout",
          "text": [
            "Number of Checking Accounts:  0\n",
            "Account Balance: 0.0\n",
            "Account Balance: 100.0\n",
            "Account Balance: 200.0\n",
            "Number of Checking Accounts:  3\n"
          ]
        }
      ]
    },
    {
      "cell_type": "code",
      "source": [
        "#4\n",
        "class Fruit:\n",
        "  def __init__(self, formalin=False, name=''):\n",
        "    self.__formalin = formalin\n",
        "    self.name = name\n",
        "  def getName(self):\n",
        "    return self.name\n",
        "  def hasFormalin(self):\n",
        "    return self.__formalin\n",
        "class testFruit:\n",
        "  def test(self, f):\n",
        "    print('----Printing Detail----')\n",
        "    if f.hasFormalin():\n",
        "        print('Do not eat the',f.getName(),'.')\n",
        "        print(f)\n",
        "    else:\n",
        "        print('Eat the',f.getName(),'.')\n",
        "        print(f)\n",
        "\n",
        "class Mango(Fruit):\n",
        "  def __init__(self,f=True):\n",
        "      super().__init__(f,'Mango')\n",
        "  def __str__(self):\n",
        "      if super().hasFormalin():\n",
        "         return f\"Mangoes are bad for you\"\n",
        "      else:\n",
        "         return f\"Mangoes are good for you\"\n",
        "class Jackfruit(Fruit):\n",
        "  def __init__(self,f=False):\n",
        "      super().__init__(f,'Jackfruit')\n",
        "  def __str__(self):\n",
        "      if super().hasFormalin():\n",
        "         return f\"Jackfruits are bad for you\"\n",
        "      else:\n",
        "         return f\"Jackfruits are good for you\"\n",
        "                  \n",
        "\n",
        "m = Mango()\n",
        "j = Jackfruit()\n",
        "t1 = testFruit()\n",
        "t1.test(m)\n",
        "t1.test(j)"
      ],
      "metadata": {
        "colab": {
          "base_uri": "https://localhost:8080/"
        },
        "id": "QZ5svbVU-mKA",
        "outputId": "9add6e4e-8528-44d8-f230-6c4714530b78"
      },
      "execution_count": null,
      "outputs": [
        {
          "output_type": "stream",
          "name": "stdout",
          "text": [
            "----Printing Detail----\n",
            "Do not eat the Mango .\n",
            "Mangoes are bad for you\n",
            "----Printing Detail----\n",
            "Eat the Jackfruit .\n",
            "Jackfruits are good for you\n"
          ]
        }
      ]
    },
    {
      "cell_type": "code",
      "source": [
        "#5\n",
        "class Exam:\n",
        "  def __init__(self,marks):\n",
        "    self.marks = marks\n",
        "    self.time = 60\n",
        "  def examSyllabus(self):\n",
        "    return \"Maths , English\"\n",
        "  def examParts(self):\n",
        "    return \"Part 1 - Maths\\nPart 2 - English\\n\"\n",
        "#======================================\n",
        "class ScienceExam(Exam):\n",
        "  def __init__(self,marks,time,*sub):\n",
        "    super().__init__(marks)\n",
        "    self.time=time\n",
        "    self.sub=sub\n",
        "  def __str__(self):\n",
        "    return f'marks: {self.marks} Time: {self.time} Number of parts: {len(self.sub)+2}'\n",
        "  def examSyllabus(self):\n",
        "    ans=super().examSyllabus()+','\n",
        "    for i in self.sub:\n",
        "      ans+=' '+i+','\n",
        "    return ans[:-1]\n",
        "  def examParts(self):\n",
        "    temp=self.examSyllabus().split(',')\n",
        "    ans=''\n",
        "    for x in range(1,len(temp)+1):\n",
        "      ans+=f'Part {x} - {temp[x-1]}\\n'\n",
        "    return ans\n",
        "\n",
        "\n",
        "#======================================\n",
        "\n",
        "engineering = ScienceExam(100,90,\"Physics\",\"HigherMaths\")\n",
        "print(engineering)\n",
        "print('----------------------------------')\n",
        "print(engineering.examSyllabus())\n",
        "print(engineering.examParts())\n",
        "print('==================================')\n",
        "architecture =ScienceExam(100,120,\"Physics\",\"HigherMaths\",\"Drawing\")\n",
        "print(architecture)\n",
        "print('----------------------------------')\n",
        "print(architecture.examSyllabus())\n",
        "print(architecture.examParts())"
      ],
      "metadata": {
        "colab": {
          "base_uri": "https://localhost:8080/"
        },
        "id": "J3V8w2N3BONs",
        "outputId": "c8a8c6df-07c1-4d99-e554-65e2e1b66072"
      },
      "execution_count": null,
      "outputs": [
        {
          "output_type": "stream",
          "name": "stdout",
          "text": [
            "marks: 100 Time: 90 Number of parts: 4\n",
            "----------------------------------\n",
            "Maths , English, Physics, HigherMaths\n",
            "Part 1 - Maths \n",
            "Part 2 -  English\n",
            "Part 3 -  Physics\n",
            "Part 4 -  HigherMaths\n",
            "\n",
            "==================================\n",
            "marks: 100 Time: 120 Number of parts: 5\n",
            "----------------------------------\n",
            "Maths , English, Physics, HigherMaths, Drawing\n",
            "Part 1 - Maths \n",
            "Part 2 -  English\n",
            "Part 3 -  Physics\n",
            "Part 4 -  HigherMaths\n",
            "Part 5 -  Drawing\n",
            "\n"
          ]
        }
      ]
    },
    {
      "cell_type": "code",
      "source": [
        "#6\n",
        "class Shape3D:\n",
        "  pi = 3.14159\n",
        "  def __init__(self, name = 'Default', radius = 0):\n",
        "    self._area = 0\n",
        "    self._name = name\n",
        "    self._height = 'No need'\n",
        "    self._radius = radius\n",
        "  def calc_surface_area(self):\n",
        "    return 2 * Shape3D.pi * self._radius\n",
        "  def __str__(self):\n",
        "    return \"Radius: \"+str(self._radius)\n",
        "#=====================================\n",
        "class Sphere(Shape3D):\n",
        "  def __init__(self,name,rad):\n",
        "    super().__init__(name,rad)\n",
        "    print(f'Shape name: {self._name}, Area Formula: 4 * pi * r* r')\n",
        "  def calc_surface_area(self):\n",
        "    return super().calc_surface_area()*2*self._radius\n",
        "  def __str__(self):\n",
        "    return f'Radius: {self._radius}, Height: {self._height}\\nArea: {self.calc_surface_area()}'\n",
        "class Cylinder(Shape3D):\n",
        "  def __init__(self,name,rad,height):\n",
        "    super().__init__(name,rad)\n",
        "    self._height=height\n",
        "    print(f'Shape name: {self._name}, Area Formula: 4 * pi * r* (r+h)')\n",
        "  def calc_surface_area(self):\n",
        "    return super().calc_surface_area()*(self._radius+self._height)\n",
        "  def __str__(self):\n",
        "        return f'Radius: {self._radius}, Height: {self._height}\\nArea: {self.calc_surface_area()}'\n",
        "\n",
        "              \n",
        "\n",
        "             \n",
        "\n",
        "\n",
        "sph = Sphere('Sphere', 5)\n",
        "print('----------------------------------')\n",
        "sph.calc_surface_area()\n",
        "print(sph)\n",
        "print('==================================')\n",
        "cyl = Cylinder('Cylinder', 5, 10)\n",
        "print('----------------------------------')\n",
        "cyl.calc_surface_area()\n",
        "print(cyl)\n"
      ],
      "metadata": {
        "colab": {
          "base_uri": "https://localhost:8080/"
        },
        "id": "iiPJ-ZJuBvJU",
        "outputId": "cdac868b-4d65-4de9-8e5d-c039299b7813"
      },
      "execution_count": null,
      "outputs": [
        {
          "output_type": "stream",
          "name": "stdout",
          "text": [
            "Shape name: Sphere, Area Formula: 4 * pi * r* r\n",
            "----------------------------------\n",
            "Radius: 5, Height: No need\n",
            "Area: 314.159\n",
            "==================================\n",
            "Shape name: Cylinder, Area Formula: 4 * pi * r* (r+h)\n",
            "----------------------------------\n",
            "Radius: 5, Height: 10\n",
            "Area: 471.2385\n"
          ]
        }
      ]
    },
    {
      "cell_type": "code",
      "source": [
        "#7\n",
        "class PokemonBasic:\n",
        "  def __init__(self, name = 'Default', hp = 0,weakness = 'None', type = 'Unknown'):\n",
        "    self.name = name\n",
        "    self.hit_point = hp\n",
        "    self.weakness = weakness\n",
        "    self.type = type\n",
        "  def get_type(self):\n",
        "    return 'Main type: ' + self.type\n",
        "  def get_move(self):\n",
        "    return 'Basic move: ' + 'Quick Attack'\n",
        "  def __str__(self):\n",
        "    return \"Name: \" + self.name + \", HP: \" +str(self.hit_point) + \", Weakness: \" + self.weakness\n",
        "#=========================================    \n",
        "class PokemonExtra(PokemonBasic):\n",
        "  def __init__(self,name,hp,weakness,mt,st=None,om=None):\n",
        "    super().__init__(name,hp,weakness,mt)\n",
        "    self.st=st\n",
        "    self.om=om\n",
        "  def get_type(self):\n",
        "    if self.st==None:\n",
        "      return super().get_type()\n",
        "    else:\n",
        "      return f'{super().get_type()}, Secondary Type: {self.st}'\n",
        "  def get_move(self):\n",
        "    if self.om==None:\n",
        "      return super().get_move()\n",
        "    else:\n",
        "      ans=''\n",
        "      for x in self.om:\n",
        "        ans+=x+','\n",
        "      return f'{super().get_move()}, Other Move: {ans[:-1]}'\n",
        "#========================================\n",
        "print('\\n------------Basic Info:--------------')\n",
        "pk = PokemonBasic()\n",
        "print(pk)\n",
        "print(pk.get_type())\n",
        "print(pk.get_move())\n",
        "print('\\n------------Pokemon 1 Info:-------------')\n",
        "charmander = PokemonExtra('Charmander', 39, 'Water','Fire')\n",
        "print(charmander)\n",
        "print(charmander.get_type())\n",
        "print(charmander.get_move())\n",
        "print('\\n------------Pokemon 2 Info:-------------')\n",
        "charizard = PokemonExtra('Charizard', 78, 'Water','Fire', 'Flying', ('Fire Spin', 'Fire Blaze'))\n",
        "print(charizard)\n",
        "print(charizard.get_type())\n",
        "print(charizard.get_move())"
      ],
      "metadata": {
        "colab": {
          "base_uri": "https://localhost:8080/"
        },
        "id": "c2VacqmQB5L0",
        "outputId": "cdd589b0-14a0-4319-eaa2-51523ebdd0a8"
      },
      "execution_count": null,
      "outputs": [
        {
          "output_type": "stream",
          "name": "stdout",
          "text": [
            "\n",
            "------------Basic Info:--------------\n",
            "Name: Default, HP: 0, Weakness: None\n",
            "Main type: Unknown\n",
            "Basic move: Quick Attack\n",
            "\n",
            "------------Pokemon 1 Info:-------------\n",
            "Name: Charmander, HP: 39, Weakness: Water\n",
            "Main type: Fire\n",
            "Basic move: Quick Attack\n",
            "\n",
            "------------Pokemon 2 Info:-------------\n",
            "Name: Charizard, HP: 78, Weakness: Water\n",
            "Main type: Fire, Secondary Type: Flying\n",
            "Basic move: Quick Attack, Other Move: Fire Spin,Fire Blaze\n"
          ]
        }
      ]
    },
    {
      "cell_type": "code",
      "source": [
        "#8\n",
        "class Team:\n",
        "  def __init__(self, name):\n",
        "    self.name = \"default\"\n",
        "    self.total_player = 5\n",
        "  def info(self):\n",
        "    print(\"We love sports\")\n",
        "class Team_test:\n",
        "  def check(self, tm):\n",
        "    print(\"=========================\")\n",
        "    print(\"Total Player: \", tm.total_player)\n",
        "    tm.info()\n",
        "#==========================================\n",
        "class FootBallTeam(Team):\n",
        "  def __init__(self,name):\n",
        "    self.name=name\n",
        "    self.total_player = 11\n",
        "  def info(self):\n",
        "    print(f'Our Name is {self.name}')\n",
        "    print('We play Football')\n",
        "    super().info()\n",
        "class CricketTeam(Team):\n",
        "  def __init__(self,name):\n",
        "    self.name=name\n",
        "    self.total_player = 11\n",
        "  def info(self):\n",
        "    print(f'Our Name is {self.name}')\n",
        "    print('We play Cricket')\n",
        "    super().info()\n",
        "#==========================================\n",
        "f = FootBallTeam(\"Brazil\")\n",
        "c = CricketTeam(\"Bangladesh\")\n",
        "test = Team_test()\n",
        "test.check(f)\n",
        "test.check(c) "
      ],
      "metadata": {
        "colab": {
          "base_uri": "https://localhost:8080/"
        },
        "id": "XW4XjDDmB8Qu",
        "outputId": "25d6613d-ec17-478a-9afa-c34a92473bdc"
      },
      "execution_count": null,
      "outputs": [
        {
          "output_type": "stream",
          "name": "stdout",
          "text": [
            "=========================\n",
            "Total Player:  11\n",
            "Our Name is Brazil\n",
            "We play Football\n",
            "We love sports\n",
            "=========================\n",
            "Total Player:  11\n",
            "Our Name is Bangladesh\n",
            "We play Cricket\n",
            "We love sports\n"
          ]
        }
      ]
    },
    {
      "cell_type": "code",
      "source": [
        "#9\n",
        "class Pokemon:\n",
        "  def __init__(self, p):\n",
        "    self.pokemon = p\n",
        "    self.pokemon_type = \"Needs to be set\"\n",
        "    self.pokemon_weakness = \"Needs to be set\"\n",
        "  def kind(self):\n",
        "    return self.pokemon_type\n",
        "  def weakness(self):\n",
        "    return self.pokemon_weakness\n",
        "  def what_am_i(self):\n",
        "    print(\"I am a Pokemon.\")\n",
        "#=======================================\n",
        "class Pikachu(Pokemon):\n",
        "  def __init__(self,name='Pikachu'):\n",
        "   super().__init__(name)\n",
        "   self.pokemon_type='Electric'\n",
        "   self.pokemon_weakness='Ground'\n",
        "  def what_am_i(self):\n",
        "    super().what_am_i()\n",
        "    print('I am Pikachu')\n",
        "class Charmander(Pokemon):\n",
        "  def __init__(self,name='Charmander'):\n",
        "   #self.pokemon='Charmander'\n",
        "   super().__init__(name)\n",
        "   self.pokemon_type='Fire'\n",
        "   self.pokemon_weakness='Water Ground and Rock'\n",
        "  def what_am_i(self):\n",
        "    super().what_am_i()\n",
        "    print('I am Charmander')\n",
        "#=======================================    \n",
        "pk1 = Pikachu()\n",
        "print(\"Pokemon:\", pk1.pokemon)\n",
        "print(\"Type:\", pk1.kind())\n",
        "print(\"Weakness:\", pk1.weakness())\n",
        "pk1.what_am_i()\n",
        "print(\"========================\")\n",
        "c1 = Charmander()\n",
        "print(\"Pokemon:\", c1.pokemon)\n",
        "print(\"Type:\", c1.kind())\n",
        "print(\"Weakness:\", c1.weakness())\n",
        "c1.what_am_i()\n"
      ],
      "metadata": {
        "colab": {
          "base_uri": "https://localhost:8080/"
        },
        "id": "GkyFlLiNCAQ_",
        "outputId": "272056a6-c9f2-4858-e542-ac66b18d3a2a"
      },
      "execution_count": null,
      "outputs": [
        {
          "output_type": "stream",
          "name": "stdout",
          "text": [
            "Pokemon: Pikachu\n",
            "Type: Electric\n",
            "Weakness: Ground\n",
            "I am a Pokemon.\n",
            "I am Pikachu\n",
            "========================\n",
            "Pokemon: Charmander\n",
            "Type: Fire\n",
            "Weakness: Water Ground and Rock\n",
            "I am a Pokemon.\n",
            "I am Charmander\n"
          ]
        }
      ]
    },
    {
      "cell_type": "code",
      "source": [
        "#10\n",
        "class Department:\n",
        "  def __init__(self, s):\n",
        "    self.semester = s\n",
        "    self.name = \"Default\"\n",
        "    self.id = -1\n",
        "  def student_info(self):\n",
        "    print(\"Name:\", self.name)\n",
        "    print(\"ID:\", self.id)\n",
        "  def courses(self, c1, c2, c3):\n",
        "    print(\"No courses Approved yet!\")\n",
        "\n",
        "#=================================================================\n",
        "class CSE(Department):\n",
        "  def __init__(self,name,id,s):\n",
        "    super().__init__(s)\n",
        "    self.name=name\n",
        "    self.id=id\n",
        "  def courses(self,c1,c2,c3):\n",
        "      print(f'Courses Approved to this CSE student in {self.semester} semester:\\n{c1}\\n{c2}\\n{c3}') \n",
        "class EEE(CSE):\n",
        "  def courses(self,c1,c2,c3):\n",
        "      print(f'Courses Approved to this EEE student in {self.semester} semester:\\n{c1}\\n{c2}\\n{c3}') \n",
        "#=================================================================\n",
        "\n",
        "s1 = CSE(\"Rahim\", 16101328,\"Spring2016\")\n",
        "s1.student_info()\n",
        "s1.courses(\"CSE110\", \"MAT110\", \"ENG101\")\n",
        "print(\"==================\")\n",
        "s2 = EEE(\"Tanzim\", 18101326, \"Spring2018\")\n",
        "s2.student_info()\n",
        "s2.courses(\"Mat110\", \"PHY111\", \"ENG101\")\n",
        "print(\"==================\")\n",
        "s3 = CSE(\"Rudana\", 18101326, \"Fall2017\")\n",
        "s3.student_info()\n",
        "s3.courses(\"CSE111\", \"PHY101\", \"MAT120\")\n",
        "print(\"==================\")\n",
        "s4 = EEE(\"Zainab\", 19201623, \"Summer2019\")\n",
        "s4.student_info()\n",
        "s4.courses(\"EEE201\", \"PHY112\", \"MAT120\")"
      ],
      "metadata": {
        "colab": {
          "base_uri": "https://localhost:8080/"
        },
        "id": "S2tJiSS3CIHp",
        "outputId": "1a53df5e-b308-4a5f-f9a8-ef41538c5542"
      },
      "execution_count": null,
      "outputs": [
        {
          "output_type": "stream",
          "name": "stdout",
          "text": [
            "Name: Rahim\n",
            "ID: 16101328\n",
            "Courses Approved to this CSE student in Spring2016 semester:\n",
            "CSE110\n",
            "MAT110\n",
            "ENG101\n",
            "==================\n",
            "Name: Tanzim\n",
            "ID: 18101326\n",
            "Courses Approved to this EEE student in Spring2018 semester:\n",
            "Mat110\n",
            "PHY111\n",
            "ENG101\n",
            "==================\n",
            "Name: Rudana\n",
            "ID: 18101326\n",
            "Courses Approved to this CSE student in Fall2017 semester:\n",
            "CSE111\n",
            "PHY101\n",
            "MAT120\n",
            "==================\n",
            "Name: Zainab\n",
            "ID: 19201623\n",
            "Courses Approved to this EEE student in Summer2019 semester:\n",
            "EEE201\n",
            "PHY112\n",
            "MAT120\n"
          ]
        }
      ]
    },
    {
      "cell_type": "code",
      "source": [
        "#12\n",
        "class A:\n",
        "    temp = 4\n",
        "    def __init__(self):\n",
        "        self.sum = 0\n",
        "        self.y = 0\n",
        "        self.y = A.temp - 2\n",
        "        self.sum = A.temp + 1\n",
        "        A.temp -= 2\n",
        "    def methodA(self, m,  n):\n",
        "        x = 0\n",
        "        self.y = self.y + m + (A.temp)\n",
        "        A.temp += 1\n",
        "        x = x + 1 + n\n",
        "        self.sum = self.sum + x + self.y\n",
        "        print(x, self.y, self.sum)\n",
        " \n",
        "class B(A):\n",
        "    x = 0\n",
        "    def __init__(self,b=None):\n",
        "        super().__init__()\n",
        "        self.sum = 0\n",
        "        if b==None:\n",
        "            self.y = A.temp + 3\n",
        "            self.sum = 3 + A.temp + 2\n",
        "            A.temp -= 2\n",
        "        else:\n",
        "            self.sum = b.sum\n",
        "            B.x = b.x\n",
        "            b.methodB(2, 3)\n",
        "    def methodB(self, m,  n):\n",
        "        y = 0\n",
        "        y = y + self.y\n",
        "        B.x = self.y + 2 + A.temp\n",
        "        self.methodA(B.x, y)\n",
        "        self.sum = B.x + y + self.sum\n",
        "        print(B.x, y, self.sum)\n",
        "a1 = A()\n",
        "b1 = B()\n",
        "b2 = B(b1)\n",
        "b1.methodA(1, 2)\n",
        "b2.methodB(3, 2)\n"
      ],
      "metadata": {
        "colab": {
          "base_uri": "https://localhost:8080/"
        },
        "id": "WgcAntDSV1xF",
        "outputId": "19343e4b-6996-47a0-a785-47ca4dae9d60"
      },
      "execution_count": null,
      "outputs": [
        {
          "output_type": "stream",
          "name": "stdout",
          "text": [
            "4 0 9\n",
            "1 3 13\n",
            "3 -2 14\n",
            "-3 -10 -8\n",
            "-4 -4 -16\n"
          ]
        }
      ]
    },
    {
      "cell_type": "code",
      "source": [],
      "metadata": {
        "id": "Kn0KozQiW1Nh"
      },
      "execution_count": null,
      "outputs": []
    }
  ]
}